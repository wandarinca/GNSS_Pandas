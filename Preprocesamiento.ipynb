{
 "cells": [
  {
   "cell_type": "code",
   "execution_count": 171,
   "metadata": {
    "collapsed": false
   },
   "outputs": [],
   "source": [
    "import numpy as np\n",
    "import pandas as pd\n",
    "import gpstk\n",
    "import matplotlib.pyplot as plt\n",
    "import warnings\n",
    "warnings.simplefilter('ignore', np.RankWarning)\n",
    "%matplotlib inline"
   ]
  },
  {
   "cell_type": "markdown",
   "metadata": {
    "collapsed": true
   },
   "source": [
    "# Get stations baseline < 100 Km"
   ]
  },
  {
   "cell_type": "code",
   "execution_count": 172,
   "metadata": {
    "collapsed": false
   },
   "outputs": [],
   "source": [
    "data=pd.read_csv(\"conus_2003_324_324.csv\")\n",
    "data.columns=[\"Station\", \"a\",\"b\",\"c\",\"x\",\"y\",\"z\"]"
   ]
  },
  {
   "cell_type": "code",
   "execution_count": 173,
   "metadata": {
    "collapsed": false
   },
   "outputs": [],
   "source": [
    "data=data.drop([\"a\",\"b\",\"c\"],axis=1)\n",
    "array=data.as_matrix()"
   ]
  },
  {
   "cell_type": "code",
   "execution_count": 174,
   "metadata": {
    "collapsed": false
   },
   "outputs": [],
   "source": [
    "def get_pairs(array):\n",
    "    distances=[]\n",
    "    for i in range(len(array)):\n",
    "        for j in range(i+1,len(array)):\n",
    "            distance=np.sqrt((array[i][1]-array[j][1])**2+(array[i][2]-array[j][2])**2+(array[i][3]-array[j][3])**2)\n",
    "            if distance<100e3:\n",
    "                distances.append([array[i][0],array[j][0]])\n",
    "    return distances"
   ]
  },
  {
   "cell_type": "code",
   "execution_count": 175,
   "metadata": {
    "collapsed": false
   },
   "outputs": [
    {
     "name": "stdout",
     "output_type": "stream",
     "text": [
      "Number of Stations with baseline less than 100 Km  455\n"
     ]
    },
    {
     "data": {
      "text/plain": [
       "[['1ulm', 'sihs'],\n",
       " ['1ulm', 'wnfl'],\n",
       " ['abq1', 'nmsf'],\n",
       " ['abq1', 'zab1'],\n",
       " ['acu1', 'npri'],\n",
       " ['adks', 'ang1'],\n",
       " ['adks', 'ang2'],\n",
       " ['adks', 'lkhu'],\n",
       " ['adks', 'netp'],\n",
       " ['adks', 'txhu']]"
      ]
     },
     "execution_count": 175,
     "metadata": {},
     "output_type": "execute_result"
    }
   ],
   "source": [
    "pairs=get_pairs(array)\n",
    "print \"Number of Stations with baseline less than 100 Km \",len(pairs)\n",
    "pairs[:10]"
   ]
  },
  {
   "cell_type": "code",
   "execution_count": 176,
   "metadata": {
    "collapsed": false
   },
   "outputs": [
    {
     "name": "stdout",
     "output_type": "stream",
     "text": [
      "302\n"
     ]
    }
   ],
   "source": [
    "stations=[item for sublist in pairs for item in sublist]\n",
    "stations=list(np.unique(stations))\n",
    "print len(stations)\n",
    "#print stations"
   ]
  },
  {
   "cell_type": "markdown",
   "metadata": {},
   "source": [
    "## Functions"
   ]
  },
  {
   "cell_type": "code",
   "execution_count": 177,
   "metadata": {
    "collapsed": true
   },
   "outputs": [],
   "source": [
    "def adjust_times(df):\n",
    "    df=df.sort(\"TIME\")\n",
    "    times=df.TIME.as_matrix()\n",
    "    for i in range(times.size):\n",
    "        if times[i]%30!=0:\n",
    "            times[i]=times[i]+(30-times[i]%30)\n",
    "    df[\"TIME\"]=times\n",
    "    return df"
   ]
  },
  {
   "cell_type": "code",
   "execution_count": 178,
   "metadata": {
    "collapsed": false
   },
   "outputs": [],
   "source": [
    "def label_arcs(df):\n",
    "    time=df.TIME.as_matrix()\n",
    "    diff=np.diff(time)>3600\n",
    "    diff=np.hstack((np.array([False]),diff))\n",
    "    split=np.where(diff==True) #points where there is a \"True\" value\n",
    "    \n",
    "    if len(split[0])>0:\n",
    "        arcs=np.split(time,split[0])\n",
    "        arcsID=[]\n",
    "        n=1\n",
    "        for i in range(len(arcs)):\n",
    "            size=len(arcs[i])\n",
    "            tmp=np.empty(size)\n",
    "            tmp[:]=n\n",
    "            arcsID.append(tmp)\n",
    "            n+=1\n",
    "        arcsID=np.concatenate(arcsID)\n",
    "    else:#one arc\n",
    "        arcsID=np.empty(time.size)\n",
    "        arcsID[:]=1\n",
    "        \n",
    "    df[\"ARCS\"]=arcsID\n",
    "    return df"
   ]
  },
  {
   "cell_type": "code",
   "execution_count": 179,
   "metadata": {
    "collapsed": true
   },
   "outputs": [],
   "source": [
    "def cycle_slips(PhaseDelay,L1,L2,threshold=0.5):\n",
    "    slips=[]\n",
    "    slips=np.where(np.abs(np.diff(np.hstack(([0],PhaseDelay))))>threshold) \n",
    "    #noL1=np.where(L1==np.nan)[0] #is nan?\n",
    "    #noL2=np.where(L2==np.nan)[0]\n",
    "    #print \"Slips\",slips\n",
    "    noL1=np.where(np.isnan(L1)==True)[0]#is nan?\n",
    "    noL2=np.where(np.isnan(L2)==True)[0]\n",
    "    if len(noL1)>0:\n",
    "        print \"No L1\", noL1\n",
    "    if len(noL2)>0:\n",
    "        print \"No L2\", noL2\n",
    "    \n",
    "    return slips[0]\n",
    "    "
   ]
  },
  {
   "cell_type": "code",
   "execution_count": 180,
   "metadata": {
    "collapsed": false
   },
   "outputs": [],
   "source": [
    "def subarcs(arc,dfarc,splits):\n",
    "    time=dfarc.TIME\n",
    "    if len(splits)>0:\n",
    "        subarcs=np.split(time,splits)\n",
    "        subarcsID=[]\n",
    "        n=arc*10\n",
    "        for i in range(len(subarcs)):\n",
    "            size=len(subarcs[i])\n",
    "            tmp=np.empty(size)\n",
    "            tmp[:]=n\n",
    "            subarcsID.append(tmp)\n",
    "            n+=1\n",
    "        subarcsID=np.concatenate(subarcsID)\n",
    "    else:#one arc\n",
    "        subarcsID=np.empty(time.size)\n",
    "        subarcsID[:]=arc*10+1\n",
    "    dfarc[\"SUBARCS\"]=subarcsID\n",
    "    return dfarc"
   ]
  },
  {
   "cell_type": "code",
   "execution_count": 181,
   "metadata": {
    "collapsed": true
   },
   "outputs": [],
   "source": [
    "def del_arcs(df): #delete arcs with less than 10 point\n",
    "    subarcs=df.SUBARCS.values\n",
    "    for subarc in np.unique(subarcs):\n",
    "        if len(np.where(df.SUBARCS==subarc)[0])<10:#.SUBARCS\n",
    "            #print \"Subarc id\",subarc,\" deleted with \",len(np.where(df.SUBARCS==subarc)[0]),\" datapoints\"\n",
    "            del_points =np.where(df.SUBARCS==subarc)[0] #Save times so we can delete in other station\n",
    "            df=df[df.SUBARCS!=subarc]    \n",
    "    return df\n",
    "            "
   ]
  },
  {
   "cell_type": "code",
   "execution_count": 182,
   "metadata": {
    "collapsed": false
   },
   "outputs": [],
   "source": [
    "def poly_fit(dfarc):\n",
    "    #receives a dataframe with a number of subarcs\n",
    "    #On each subarc takes N elements from LI=L1-L2 and performs interpolation, \n",
    "    f1,f2=gpstk.L1_FREQ_GPS,gpstk.L2_FREQ_GPS\n",
    "    alfa=1.0/((f1**2/f2**2)-1)\n",
    "    #Lists potential outliers and time when it occurs on each subarc\n",
    "    times,gradients=[],[]\n",
    "    subarcs=np.unique(dfarc.SUBARCS.values)\n",
    "    for subarc in subarcs:\n",
    "        dfsubarc=dfarc[dfarc.SUBARCS==subarc]\n",
    "        N=10 #window \n",
    "        tPoly ,Poly=[],[]\n",
    "        lI=alfa*(dfsubarc.L1.as_matrix()-dfsubarc.L2.as_matrix())\n",
    "        time=dfsubarc.TIME.as_matrix()\n",
    "\n",
    "        for i in range(0,lI.size,N): \n",
    "            x=np.array(time[i:i+N])\n",
    "            y=np.array(lI[i:i+N])\n",
    "            z= np.polyfit(x,y,2)\n",
    "            p = np.poly1d(z)\n",
    "            for i in range(x.size):\n",
    "                Poly.append(p(x[i]))\n",
    "                tPoly.append(x[i]) \n",
    "                \n",
    "        Poly=np.array(Poly)\n",
    "        \n",
    "        #detects datajumps in the diference between the polinomyal fit and real data \n",
    "        residual=lI-Poly\n",
    "        candidates=np.where(np.abs(np.diff(np.hstack(([0],residual))))>0.8)[0]\n",
    "\n",
    "        if len(candidates)>0:\n",
    "            time_candidates=time[candidates]\n",
    "            gradient_candidates=residual[candidates]\n",
    "            times.append(time_candidates) #array candidatos en subarcos\n",
    "            gradients.append(gradient_candidates)\n",
    "        else:\n",
    "            times.append(np.array([]))\n",
    "            gradients.append(np.array([]))\n",
    "    \n",
    "        dfarc.POLYFIT[dfarc.SUBARCS==subarc]=Poly\n",
    "\n",
    "    return dfarc,times,gradients #df con columna de interpolacion,  array de arrays(algunos vacios), array dde arrays o None (uno por cada sub arco)"
   ]
  },
  {
   "cell_type": "code",
   "execution_count": 183,
   "metadata": {
    "collapsed": true
   },
   "outputs": [],
   "source": [
    "def outlier_detect(dfarc,k=10):#k=30? 15 min\n",
    "    f1,f2=gpstk.L1_FREQ_GPS,gpstk.L2_FREQ_GPS\n",
    "    alfa=1.0/((f1**2/f2**2)-1)\n",
    "    #lists outlier factors on each arc\n",
    "    outliers_subarcs,times_subarcs=[],[]\n",
    "    subarcs=np.unique(dfarc.SUBARCS.values)\n",
    "    for subarc in subarcs:\n",
    "        dfsubarc=dfarc[dfarc.SUBARCS==subarc]\n",
    "        lI=alfa*(dfsubarc.L1.as_matrix()-dfsubarc.L2.as_matrix())\n",
    "        times=dfsubarc.TIME.as_matrix()\n",
    "        times_subarcs.append(times)\n",
    "        outliers=[] #set of outlier factors for every element in L=L1-L2\n",
    "    \n",
    "        for i in range(0,lI.size):\n",
    "            if i<(k/2+1):\n",
    "                neighbours=np.hstack((lI[0:i],lI[i+1:i+(k/2)+1])) #neighbours around i, without i\n",
    "                tn=np.hstack((times[0:i],times[i+1:i+(k/2)+1]))\n",
    "\n",
    "            elif i>lI.size-(k/2+1):\n",
    "                neighbours=np.hstack((lI[i-k/2:i],lI[i+1:lI.size+1]))\n",
    "                tn=np.hstack((times[i-k/2:i],times[i+1:lI.size+1])) #times neighbour\n",
    "\n",
    "            else:\n",
    "                neighbours=np.hstack((lI[i-k/2:i],lI[i+1:i+(k/2)+1]))\n",
    "                tn=np.hstack((times[i-k/2:i],times[i+1:i+(k/2)+1]))\n",
    "\n",
    "            OFt=0\n",
    "            deno=np.sum(1/(np.abs(times[i]-tn)*1.0))#denominator de Wpq para elemento i\n",
    "            for neighbour in range(neighbours.size): \n",
    "                if times[neighbour]!=times[i]:\n",
    "                    Wpq=1/np.abs(times[i]-times[neighbour])\n",
    "                    Wpq=Wpq/deno\n",
    "                    OFt+=(Wpq*np.abs(lI[i]-lI[neighbour]))\n",
    "            outliers.append(OFt)  #outliers in the subarc\n",
    "        outliers_subarcs.append(outliers) #outliers on arc \n",
    "\n",
    "    return outliers_subarcs,times_subarcs #list of lists(suarcs),list of arrays\n"
   ]
  },
  {
   "cell_type": "code",
   "execution_count": 184,
   "metadata": {
    "collapsed": true
   },
   "outputs": [],
   "source": [
    "def remove_outliers(ptimes,otimes,poly_outliers,outliers_factor,subarcs):\n",
    "    confirmed=[] #times of confirmed outliers\n",
    "    #print \"# Subarcs: \",subarcs\n",
    "    for subarc in range(subarcs):\n",
    "        if len(poly_outliers[subarc])>0:\n",
    "            for i in range(len(poly_outliers[subarc])):\n",
    "                #print \"Quedan\", len(poly_outliers[subarc]),\" candidatos\" \n",
    "                #check for max outliers with polinomial method\n",
    "                maxpoly=np.argmax(poly_outliers[subarc])\n",
    "                valuemaxpoly=poly_outliers[subarc][maxpoly] \n",
    "                tmaxpoly=ptimes[subarc][maxpoly]\n",
    "                #check for max outliers with outliers factor method\n",
    "                maxofactor=np.argmax(outliers_factor[subarc])\n",
    "                valuemaxout=outliers_factor[subarc][maxofactor]\n",
    "                tmaxofactor=otimes[subarc][maxofactor]\n",
    "\n",
    "                if tmaxofactor==tmaxpoly:\n",
    "                    if tmaxofactor not in confirmed:\n",
    "                        confirmed.append(tmaxofactor)\n",
    "                        #print \"Outlier detectado en t=\",tmaxofactor\n",
    "                        #Save time of confirmed outlier\n",
    "                        #print \"Verificar que elemento se elimina\"\n",
    "                        #print len(outliers_factor[subarc])\n",
    "                        #print len(otimes[subarc])\n",
    "                        #print poly_outliers[subarc].shape\n",
    "                        #print ptimes[subarc].shape\n",
    "                        #Delete point from both methods and continue \n",
    "                        outliers_factor[subarc]=np.delete(outliers_factor[subarc],maxofactor)\n",
    "                        otimes[subarc]=np.delete(otimes[subarc],maxofactor)\n",
    "                        poly_outliers[subarc]=np.delete(poly_outliers[subarc],maxpoly)\n",
    "                        ptimes[subarc]=np.delete(ptimes[subarc],maxpoly)\n",
    "                        #print len(outliers_factor[subarc])\n",
    "                        #print len(otimes[subarc])\n",
    "                        #print poly_outliers[subarc].shape\n",
    "                        #print ptimes[subarc].shape\n",
    "                    else:\n",
    "                        #print \"Ya estaba confirmado\"\n",
    "                        break\n",
    "                        \n",
    "\n",
    "                else: #If there aret any more coincidences stop searching\n",
    "                    #print \"No hay mas confirmados\"\n",
    "                    break\n",
    "\n",
    "        else:\n",
    "            #See next subarc\n",
    "            #print \"No hay candidatos con metodo polinomial fit\"\n",
    "            continue\n",
    "            \n",
    "    return confirmed"
   ]
  },
  {
   "cell_type": "code",
   "execution_count": 185,
   "metadata": {
    "collapsed": true
   },
   "outputs": [],
   "source": [
    "def Hatch_Filter(dfarc): #Code smoothed with Phase measurement\n",
    "    subarcs=np.unique(dfarc.SUBARCS.values)\n",
    "    for subarc in subarcs:\n",
    "        dfsubarc=dfarc[dfarc.SUBARCS==subarc]\n",
    "        R1=dfsubarc.C1.as_matrix()\n",
    "        R2=dfsubarc.C2.as_matrix()\n",
    "        L1=dfsubarc.L1.as_matrix()\n",
    "        L2=dfsubarc.L2.as_matrix()\n",
    "    \n",
    "        size=len(R1)#R.size\n",
    "        N=10 \n",
    "        \n",
    "        for k in range(1,size):\n",
    "            if k>N:\n",
    "                n=N\n",
    "            else:\n",
    "                n=k\n",
    "            R1[k]=(R1[k]/n)+((n-1.0)/n)*(R1[k-1]+(L1[k]-L1[k-1]))\n",
    "            R2[k]=(R2[k]/n)+((n-1.0)/n)*(R2[k-1]+(L2[k]-L2[k-1]))\n",
    "            \n",
    "        dfarc.HATCHCODE1[dfarc.SUBARCS==subarc]=R1\n",
    "        dfarc.HATCHCODE2[dfarc.SUBARCS==subarc]=R2\n",
    "    return dfarc\n",
    "    "
   ]
  },
  {
   "cell_type": "code",
   "execution_count": 186,
   "metadata": {
    "collapsed": true
   },
   "outputs": [],
   "source": [
    "def Level_Arc(dfarc):\n",
    "    dfarc.Elevation\n",
    "    f1,f2=gpstk.L1_FREQ_GPS,gpstk.L2_FREQ_GPS\n",
    "    alfa=1.0/((f1**2/f2**2)-1)\n",
    "    subarcs=np.unique(dfarc.SUBARCS.values)\n",
    "    for subarc in subarcs:\n",
    "        dfsubarc=dfarc[dfarc.SUBARCS==subarc]\n",
    "        dfsubarc.CodeDelay=alfa*(dfsubarc.HATCHCODE2-dfsubarc.HATCHCODE2)\n",
    "        dfsubarc.PhaseDelay=alfa*(dfsubarc.L1-dfsubarc.L2)\n",
    "        L=np.sum((dfsubarc.CodeDelay-dfsubarc.PhaseDelay)*(np.sin(dfsubarc.Elevation)**2))/np.sum(np.sin(dfsubarc.Elevation)**2) #leveling factor\n",
    "        dfsubarc.PhaseDelay=dfsubarc.PhaseDelay+L\n",
    "        dfarc.PhaseDelay[dfarc.SUBARCS==subarc]=dfsubarc.PhaseDelay\n",
    "    \n",
    "    return dfarc\n",
    "        \n",
    "    "
   ]
  },
  {
   "cell_type": "markdown",
   "metadata": {},
   "source": [
    "# Preprocessing each station\n"
   ]
  },
  {
   "cell_type": "code",
   "execution_count": 187,
   "metadata": {
    "collapsed": false,
    "scrolled": true
   },
   "outputs": [],
   "source": [
    "from os import listdir\n",
    "dir_txt=\"txtcors/\"\n",
    "files = [f for f in listdir(dir_txt)]\n",
    "\n",
    "f1=gpstk.L1_FREQ_GPS\n",
    "f2=gpstk.L2_FREQ_GPS\n",
    "factor_alfa=f2**2/(f1**2-f2**2)\n",
    "c=3e8\n",
    "alfa=1.0/((f1**2/f2**2)-1) \n",
    "\n",
    "for station in stations[1:2]:\n",
    "    #Load Files]\n",
    "    columns=[\"PRN\",\"TIME\",\"C1\",\"C2\",\"L1\",\"L2\",\"Tgd\",\"IPP\",\"Elevation\",\"Azimuth\"]\n",
    "    txtfile=dir_txt+[f for f in files if station in f ][0]\n",
    "    newdf=pd.DataFrame()\n",
    "    df=pd.read_csv(txtfile,sep=\",\")\n",
    "    df.columns=columns\n",
    "    sats=np.unique(df.PRN.values)\n",
    "    #print sats\n",
    "    #For each satellite observed by the station\n",
    "    for sat in sats :\n",
    "        df1sat=df[df.PRN==sat] #dataframe with times of an specific satellite\n",
    "        df1=df.reset_index(drop=True)\n",
    "        #Estimate delay measures \n",
    "        df1sat[\"PhaseDelay\"]=alfa*(df1sat.L1-df1sat.L2)\n",
    "        df1sat[\"CodeDelay\"]=alfa*(df1sat.C2-df1sat.C1)\n",
    "        #Add column with indicators of time separation (ARC)\n",
    "        df1sat=label_arcs(df1sat)\n",
    "        ARCS=np.unique(df1sat.ARCS.values)\n",
    "        for arc in ARCS:\n",
    "            #Search for cycle Slips on each arc\n",
    "            dfarc=df1sat[df1sat.ARCS==arc]\n",
    "            slips=cycle_slips(dfarc.PhaseDelay.as_matrix(),dfarc.L1.as_matrix(),dfarc.L2.as_matrix(),2.5)\n",
    "            #Use slips to divide one contnuous arc in sub arcs\n",
    "            dfarc=subarcs(arc,dfarc,slips)\n",
    "            #Remove short-arcs \n",
    "            dfarc=del_arcs(dfarc)\n",
    "            #Outliers Detection and Removal\n",
    "            ##Polinomial fit Method\n",
    "            dfarc[\"POLYFIT\"]=np.nan\n",
    "            dfarc,ptimes,poly_outliers=poly_fit(dfarc)\n",
    "            ##Outliers Factor Method\n",
    "            outliersfactors,otimes=outlier_detect(dfarc,10)\n",
    "            nsubarcs=len(np.unique(dfarc.SUBARCS.values)) #number of subarcs\n",
    "            deltimes=remove_outliers(ptimes,otimes,poly_outliers,outliersfactors,nsubarcs)\n",
    "            if len(deltimes)>0:\n",
    "                print \"Outliers detected in station \"+ station+\", : \",len(deltimes)\n",
    "                for t in deltimes:\n",
    "                    dfarc=dfarc[dfarc.TIME!=t]\n",
    "            #Hatch filter \n",
    "            dfarc[\"HATCHCODE1\"]=np.nan\n",
    "            dfarc[\"HATCHCODE2\"]=np.nan\n",
    "            dfarc=Hatch_Filter(dfarc)\n",
    "            #Phase leveling \n",
    "            dfarc=Level_Arc(dfarc)\n",
    "            #Save in newdf\n",
    "            con=[newdf,dfarc]\n",
    "            newdf=pd.concat(con)\n",
    "            \n",
    "            break\n",
    "        break\n",
    "        "
   ]
  },
  {
   "cell_type": "code",
   "execution_count": 188,
   "metadata": {
    "collapsed": false
   },
   "outputs": [
    {
     "data": {
      "text/plain": [
       "<matplotlib.collections.PathCollection at 0x7f870dddfb10>"
      ]
     },
     "execution_count": 188,
     "metadata": {},
     "output_type": "execute_result"
    },
    {
     "data": {
      "image/png": "[encoded data removed]",
      "text/plain": [
       "<matplotlib.figure.Figure at 0x7f871d5225d0>"
      ]
     },
     "metadata": {},
     "output_type": "display_data"
    }
   ],
   "source": [
    "#Plot code before and after filtering\n",
    "plt.subplot(1,2,1)\n",
    "plt.title(\"Filtered\")\n",
    "plt.scatter(dfarc.TIME/3600,alfa*(dfarc.HATCHCODE2-dfarc.HATCHCODE1), c=\"r\",alpha=.5)\n",
    "plt.subplot(1,2,2)\n",
    "plt.title(\"Not filtered\")\n",
    "plt.scatter(dfarc.TIME/3600,alfa*(dfarc.C2-dfarc.C1), c=\"b\",alpha=.5)"
   ]
  },
  {
   "cell_type": "code",
   "execution_count": 164,
   "metadata": {
    "collapsed": false
   },
   "outputs": [
    {
     "data": {
      "text/plain": [
       "<matplotlib.collections.PathCollection at 0x7f871e017890>"
      ]
     },
     "execution_count": 164,
     "metadata": {},
     "output_type": "execute_result"
    },
    {
     "data": {
      "image/png": "[encoded data removed]",
      "text/plain": [
       "<matplotlib.figure.Figure at 0x7f871de33190>"
      ]
     },
     "metadata": {},
     "output_type": "display_data"
    }
   ],
   "source": [
    "#Plot code before and after filtering\n",
    "plt.subplot(1,2,1)\n",
    "plt.title(\"Phase Unleveled\")\n",
    "plt.scatter(dfarc.TIME/3600,alfa*(dfarc.L1-dfarc.L2), c=\"r\",alpha=.5)\n",
    "\n",
    "plt.subplot(1,2,2)\n",
    "plt.title(\"Phase Leveled\")\n",
    "plt.scatter(dfarc.TIME/3600,dfarc.PhaseDelay, c=\"g\",alpha=.5)\n"
   ]
  },
  {
   "cell_type": "code",
   "execution_count": 192,
   "metadata": {
    "collapsed": false
   },
   "outputs": [
    {
     "name": "stdout",
     "output_type": "stream",
     "text": [
      "['GPS 1' 'GPS 10' 'GPS 11' 'GPS 13' 'GPS 14' 'GPS 15' 'GPS 16' 'GPS 17'\n",
      " 'GPS 18' 'GPS 2' 'GPS 20' 'GPS 21' 'GPS 23' 'GPS 24' 'GPS 25' 'GPS 26'\n",
      " 'GPS 27' 'GPS 28' 'GPS 29' 'GPS 3' 'GPS 30' 'GPS 31' 'GPS 4' 'GPS 5'\n",
      " 'GPS 6' 'GPS 7' 'GPS 8' 'GPS 9']\n"
     ]
    }
   ],
   "source": [
    "print np.unique(df.PRN.values)"
   ]
  },
  {
   "cell_type": "code",
   "execution_count": 191,
   "metadata": {
    "collapsed": false,
    "scrolled": true
   },
   "outputs": [
    {
     "name": "stdout",
     "output_type": "stream",
     "text": [
      "[ 1.]\n"
     ]
    }
   ],
   "source": [
    "print np.unique(df1sat.ARCS.values)"
   ]
  },
  {
   "cell_type": "code",
   "execution_count": 168,
   "metadata": {
    "collapsed": false
   },
   "outputs": [
    {
     "name": "stdout",
     "output_type": "stream",
     "text": [
      "[ 11.]\n"
     ]
    }
   ],
   "source": [
    "print np.unique(dfarc.SUBARCS.values)"
   ]
  },
  {
   "cell_type": "code",
   "execution_count": 190,
   "metadata": {
    "collapsed": false
   },
   "outputs": [
    {
     "data": {
      "text/plain": [
       "array([ 1.])"
      ]
     },
     "execution_count": 190,
     "metadata": {},
     "output_type": "execute_result"
    }
   ],
   "source": [
    "np.unique(newdf.ARCS.values)"
   ]
  },
  {
   "cell_type": "code",
   "execution_count": null,
   "metadata": {
    "collapsed": false
   },
   "outputs": [],
   "source": [
    "print len(np.unique(new_dfarc1.SUBARCS.values))\n",
    "np.unique(new_dfarc1.SUBARCS.values)"
   ]
  },
  {
   "cell_type": "code",
   "execution_count": null,
   "metadata": {
    "collapsed": false
   },
   "outputs": [],
   "source": [
    "subarc=0\n",
    "print len(poly_outliers1[subarc])>0\n",
    "print poly_outliers1\n",
    "print outliers1"
   ]
  },
  {
   "cell_type": "code",
   "execution_count": null,
   "metadata": {
    "collapsed": false
   },
   "outputs": [],
   "source": [
    "print len(ptimes2) #un solo subarco\n",
    "print ptimes2[0].size\n",
    "print poly_outliers2[0].size"
   ]
  },
  {
   "cell_type": "code",
   "execution_count": null,
   "metadata": {
    "collapsed": false
   },
   "outputs": [],
   "source": [
    "print len(otimes1[0]) #un solo sub arco\n",
    "print len(outliers1[0])"
   ]
  },
  {
   "cell_type": "code",
   "execution_count": null,
   "metadata": {
    "collapsed": false
   },
   "outputs": [],
   "source": [
    "plt.scatter(new_dfarc1.TIME[new_dfarc1.SUBARCS==17.],new_dfarc1.PhaseDelay[new_dfarc1.SUBARCS==17.])"
   ]
  },
  {
   "cell_type": "code",
   "execution_count": null,
   "metadata": {
    "collapsed": false
   },
   "outputs": [],
   "source": [
    "plt.scatter(new_dfarc1.TIME[new_dfarc1.SUBARCS==17.],new_dfarc1.POLYFIT[new_dfarc1.SUBARCS==17.])\n",
    "print poly_outliers1\n",
    "print poly_outliers2\n"
   ]
  },
  {
   "cell_type": "code",
   "execution_count": null,
   "metadata": {
    "collapsed": true
   },
   "outputs": [],
   "source": [
    "#/opt/anaconda/lib/python2.7/ #python con selenium\n",
    "#/opt/anaconda/lib/python2.7/site-packages/ python modulos de anaconcda"
   ]
  }
 ],
 "metadata": {
  "kernelspec": {
   "display_name": "Python 2",
   "language": "python",
   "name": "python2"
  },
  "language_info": {
   "codemirror_mode": {
    "name": "ipython",
    "version": 2
   },
   "file_extension": ".py",
   "mimetype": "text/x-python",
   "name": "python",
   "nbconvert_exporter": "python",
   "pygments_lexer": "ipython2",
   "version": "2.7.9"
  }
 },
 "nbformat": 4,
 "nbformat_minor": 0
}
