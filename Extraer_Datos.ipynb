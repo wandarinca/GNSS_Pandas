{
 "cells": [
  {
   "cell_type": "markdown",
   "metadata": {},
   "source": [
    "# Script para tomar archivos de conus de un dia específico"
   ]
  },
  {
   "cell_type": "code",
   "execution_count": 1,
   "metadata": {
    "collapsed": true
   },
   "outputs": [],
   "source": [
    "cors_stations=['1lsu', '1ulm', 'abq1', 'acu1', 'adks', 'adri', 'ais1', 'amc2', 'ang1', 'ang2', 'anp1', 'aoml', 'arp3', 'ashv', 'aspa', 'asub', 'avca', 'azcn', 'azgb', 'barh', 'barn', 'bay1', 'bay2', 'bayr', 'bfny', 'bil1', 'bill', 'bis1', 'blkv', 'blmm', 'blrw', 'blyt', 'brig', 'brmu', 'brtw', 'bru1', 'bsmk', 'burn', 'bvhs', 'cabl', 'calu', 'carh', 'casl', 'casp', 'cass', 'ccv3', 'cdb7', 'cena', 'chab', 'chb1', 'chi3', 'chme', 'cho1', 'chzz', 'clk1', 'clre', 'cmbb', 'cme1', 'cndr', 'cnmr', 'cnwm', 'cola', 'colb', 'cono', 'corb', 'corv', 'cosa', 'coso', 'cot1', 'cot2', 'covx', 'cpxf', 'crlt', 'cro1', 'ddsn', 'defi', 'det2', 'dfnk', 'dhlg', 'dnrc', 'dobs', 'dqua', 'drv1', 'dsl1', 'dsrc', 'duck', 'edoc', 'elen', 'eng2', 'eprt', 'erla', 'fair', 'fayr', 'fbyn', 'fdtc', 'freo', 'frtg', 'fst1', 'fts1', 'gacc', 'gait', 'galb', 'galp', 'garf', 'gast', 'gdac', 'gdma', 'glpt', 'gnaa', 'gnvl', 'gobs', 'gode', 'gol2', 'grar', 'grtn', 'guam', 'guat', 'gus2', 'gust', 'guug', 'gvlt', 'gwen', 'hac1', 'hac2', 'hag2', 'hamm', 'hamp', 'hayw', 'hbch', 'hbrk', 'hdf1', 'hilb', 'hilo', 'hipt', 'hklo', 'hnlc', 'hnpt', 'hopb', 'hrn1', 'hruf', 'htcc', 'htv1', 'hvlk', 'idtd', 'iuco', 'jnu1', 'jtnt', 'jxvl', 'kan1', 'kels', 'ken1', 'kew1', 'king', 'kjun', 'kngs', 'kns1', 'kns2', 'kntn', 'kod1', 'kok1', 'kokb', 'ksme', 'kwst', 'kyw1', 'lamt', 'lans', 'lcdt', 'ldbt', 'leba', 'lev1', 'lill', 'linh', 'lkhu', 'lmcn', 'lmno', 'lnc1', 'lnc2', 'lou1', 'lsbn', 'lsua', 'lthm', 'lvwd', 'lyco', 'mana', 'mari', 'maui', 'mbww', 'mcd1', 'mcn1', 'mcne', 'mcon', 'mdo1', 'mdr3', 'mdr4', 'mem2', 'metr', 'mhcb', 'mia3', 'midv', 'mil1', 'mins', 'mio1', 'mlf1', 'mnls', 'mob1', 'monp', 'mor1', 'mple', 'mrkb', 'mrrn', 'msol', 'mthn', 'mtnt', 'mtvr', 'myt1', 'napl', 'nbr2', 'nc77', 'ncbu', 'ncco', 'ncmr', 'ncwi', 'ndbc', 'nds1', 'neah', 'nedr', 'netp', 'newp', 'nfln', 'njgc', 'nji2', 'njtw', 'nlgn', 'nlib', 'nmsf', 'nor1', 'nor2', 'nor3', 'npri', 'nymc', 'ohln', 'okad', 'okan', 'okcb', 'okcl', 'okdt', 'okee', 'okhv', 'oklw', 'okmu', 'okom', 'okte', 'oktu', 'omh1', 'ormd', 'ospa', 'pabh', 'pah1', 'papt', 'parl', 'pary', 'patt', 'pbl1', 'pboc', 'pck1', 'pie1', 'pin1', 'pit1', 'pktn', 'plo3', 'pls1', 'pltc', 'pltk', 'pnb1', 'pncy', 'pnr1', 'por4', 'pot3', 'ppt1', 'prco', 'psc1', 'pscc', 'psu1', 'ptir', 'pub1', 'puc1', 'puo1', 'pur2', 'pur3', 'pwel', 'quin', 'ralr', 'red1', 'redm', 'ric1', 'ris1', 'rmnd', 'ross', 'rpt1', 'rwdn', 's300', 'sag1', 'sal1', 'sav1', 'scyc', 'sdsf', 'seat', 'seaw', 'sedr', 'shk1', 'shld', 'siby', 'sidn', 'sihs', 'slai', 'slcu', 'snfd', 'sowr', 'spn1', 'srp1', 'ssia', 'stb1', 'stkr', 'stl3', 'stl4', 'stp1', 'sum1', 'sup1', 'sup2', 'sup3', 'sutb', 'sycn', 'talh', 'tcun', 'tiff', 'tldo', 'tlka', 'tmgo', 'torp', 'trnd', 'txam', 'txan', 'txar', 'txbm', 'txcc', 'txco', 'txda', 'txde', 'txel', 'txes', 'txhu', 'txka', 'txlr', 'txlu', 'txna', 'txod', 'txpr', 'txsa', 'txwf', 'uiuc', 'univ', 'upo1', 'uptc', 'usno', 'uvfm', 'van1', 'vast', 'vcap', 'vcio', 'vic1', 'wasr', 'wdlm', 'wes2', 'whd1', 'whn1', 'wil1', 'wis1', 'wlci', 'wnci', 'wnfl', 'woos', 'wsmn', 'ybhb', 'york', 'you1', 'you2', 'zab1', 'zan1', 'zau1', 'zbi1', 'zbw1', 'zdc1', 'zdv1', 'zefr', 'zfw1', 'zhn1', 'zhu1', 'zjx1', 'zkc1', 'zla1', 'zlc1', 'zma1', 'zme1', 'zmp1', 'zny1', 'zoa1', 'zob1', 'zse1', 'zsu1', 'ztl4']"
   ]
  },
  {
   "cell_type": "code",
   "execution_count": 2,
   "metadata": {
    "collapsed": false
   },
   "outputs": [
    {
     "name": "stdout",
     "output_type": "stream",
     "text": [
      "410\n"
     ]
    }
   ],
   "source": [
    "print len(cors_stations)"
   ]
  },
  {
   "cell_type": "code",
   "execution_count": 3,
   "metadata": {
    "collapsed": false
   },
   "outputs": [],
   "source": [
    "from os import listdir\n",
    "from os.path import isfile, join\n",
    "from shutil import copyfile\n",
    "\n",
    "def select_data(year,day,in_dir,out_dir,cors):\n",
    "    onlyfiles = [f for f in listdir(in_dir) if isfile(join(in_dir, f))]\n",
    "    filesday=[f for f in onlyfiles if day in f[4:] and f[:4] in cors ] #*\n",
    "    navex=day+\".\"+year+\".n\"\n",
    "    nav=[f for f in filesday if navex in f][0]#nav file is the same for all stations in the same day\n",
    "    filesday=sorted(filesday)\n",
    "    stations={}\n",
    "    #group files by station\n",
    "    for i in filesday:\n",
    "        name=i[:4] #station id\n",
    "        if i[:4] not in stations:\n",
    "            stations[name]=[]\n",
    "            stations[name].append(i)\n",
    "        else:\n",
    "            stations[name].append(i)\n",
    "    \n",
    "    \n",
    "    discard=[]\n",
    "    sinnav,sinobs=0,0\n",
    "    \n",
    "    for station in stations:\n",
    "        ofile=station+day+\".\"+year+\".o\"\n",
    "        nfile=station+day+\".\"+year+\".n\"\n",
    "        if ofile not in stations[station]:\n",
    "            #print \"No tiene obs file\",station\n",
    "            sinobs+=1\n",
    "            discard.append(station)\n",
    "            \n",
    "        #if there isnt a navfile, we create it\n",
    "        if nfile not in stations[station]:\n",
    "            print \"No tiene nav file\",station\n",
    "            sinnav+=1\n",
    "            src=in_dir+nav\n",
    "            dst=out_dir+station+day+\".\"+year+\".n\"\n",
    "            copyfile(src, dst)\n",
    "        \n",
    "            \n",
    "    #discard stations missing the 'o' file\n",
    "    for i in discard:\n",
    "        del(stations[i])\n",
    "        \n",
    "    print \"Estaciones sin archivo de observacion: \",sinobs\n",
    "    print \"Estaciones sin archivo de navegacion: \",sinnav\n",
    "    return stations\n",
    "    "
   ]
  },
  {
   "cell_type": "code",
   "execution_count": 4,
   "metadata": {
    "collapsed": false
   },
   "outputs": [
    {
     "name": "stdout",
     "output_type": "stream",
     "text": [
      "Estaciones sin archivo de observacion:  0\n",
      "Estaciones sin archivo de navegacion:  0\n"
     ]
    }
   ],
   "source": [
    "day=\"324\"\n",
    "year=\"03\"\n",
    "input_directory=\"conus/\"\n",
    "output_directory=\"conusonly/\"\n",
    "\n",
    "\n",
    "data=select_data(year,day,input_directory,output_directory,cors_stations) #list of all files from a day"
   ]
  },
  {
   "cell_type": "code",
   "execution_count": 5,
   "metadata": {
    "collapsed": false
   },
   "outputs": [
    {
     "name": "stdout",
     "output_type": "stream",
     "text": [
      "Numero de estaciones:  410\n"
     ]
    }
   ],
   "source": [
    "print \"Numero de estaciones: \",len((data.keys()))"
   ]
  },
  {
   "cell_type": "markdown",
   "metadata": {},
   "source": [
    "# Extraer Datos de Rinex de una estacion y crear CSV"
   ]
  },
  {
   "cell_type": "code",
   "execution_count": 6,
   "metadata": {
    "collapsed": false
   },
   "outputs": [],
   "source": [
    "import numpy as np\n",
    "import gpstk\n",
    "import matplotlib.pyplot as plt\n",
    "import pandas as pd\n",
    "\n",
    "def Extract_Data(indir,outdir,nfile,ofile):\n",
    "    ofile=indir+ofile\n",
    "    nfile=indir+nfile\n",
    "    name_st=outdir+nfile.split(\"/\")[1][:-1]+\"txt\"\n",
    "    outfile=open(name_st, \"wb\") \n",
    "    outfile.write(\"PRN,TIME(SOD),C1,C2,L1,L2,Tgd,IPP,Elevation,Azimuth\\n\")\n",
    "    f1,f2=gpstk.L1_FREQ_GPS,gpstk.L2_FREQ_GPS\n",
    "    alfa=1.0/((f1**2/f2**2)-1)\n",
    "    \n",
    "    oheader,odata=gpstk.readRinex3Obs(ofile,strict=True) \n",
    "    nheader,ndata=gpstk.readRinex3Nav(nfile)\n",
    "    \n",
    "    bcestore = gpstk.GPSEphemerisStore() \n",
    "    \n",
    "    for ndato in ndata:\n",
    "        ephem = ndato.toGPSEphemeris()\n",
    "        bcestore.addEphemeris(ephem)\n",
    "    bcestore.SearchNear() \n",
    "   \n",
    "    \n",
    "    for observation in odata:\n",
    "        sats=[satID for satID, datumList in observation.obs.iteritems() if str(satID).split()[0]==\"GPS\" ] \n",
    "        obs_types = np.array([i for i in oheader.R2ObsTypes])\n",
    "        if 'C1' and 'P2' and 'L1' and 'L2' in obs_types:\n",
    "            if np.size(np.where(obs_types=='C1'))>0 and np.size(np.where(obs_types=='P2'))>0 and np.size(np.where(obs_types=='L1'))>0 and np.size(np.where(obs_types=='L2'))>0: \n",
    "                for sat in sats:\n",
    "                    eph = bcestore.findEphemeris(sat, observation.time) \n",
    "                    Tgd=eph.Tgd #Total group delay from satellite. Source: Rinex\n",
    "                    sat_pos = eph.svXvt(observation.time)\n",
    "                    rec_pos = gpstk.Position(oheader.antennaPosition[0], oheader.antennaPosition[1], oheader.antennaPosition[2]).asECEF()\n",
    "                    elevation = oheader.antennaPosition.elvAngle(sat_pos.x)\n",
    "                    azimuth = oheader.antennaPosition.azAngle(sat_pos.x) \n",
    "                    time=observation.time\n",
    "                    R=6.378e6 #earth radius\n",
    "                    IPP=rec_pos.getIonosphericPiercePoint(elevation, azimuth, 350000).asECEF()\n",
    "                    \n",
    "                    C1_idx = np.where(obs_types=='C1')[0][0] \n",
    "                    C1=observation.getObs(sat, C1_idx).data \n",
    "                    P2_idx = np.where(obs_types=='P2')[0][0]\n",
    "                    C2=observation.getObs(sat, P2_idx).data\n",
    "                    \n",
    "                    #probar con y sin esto\n",
    "                    if C1==np.array([]):\n",
    "                        C1=np.nan\n",
    "                    if C2==np.array([]):\n",
    "                        C2=np.nan\n",
    "                        \n",
    "                    L1_idx = np.where(obs_types=='L1')[0][0]\n",
    "                    L2_idx = np.where(obs_types=='L2')[0][0]\n",
    "                    L1=observation.getObs(sat, L1_idx).data\n",
    "                    L2=observation.getObs(sat, L2_idx).data\n",
    "                    \n",
    "                    if L1==np.array([]):\n",
    "                        L1=np.nan\n",
    "                    else:\n",
    "                        L1*=gpstk.L1_WAVELENGTH_GPS \n",
    "                        \n",
    "                    if L2==np.array([]):\n",
    "                        L2=np.nan\n",
    "                    else:\n",
    "                        L2*=gpstk.L2_WAVELENGTH_GPS\n",
    "                    \n",
    "                    row=str(sat)+\",\"+str(gpstk.YDSTime(time).sod)+\",\"+str(C1)+\",\"+str(C2)+\",\"+str(L1)+\",\"+str(L2)+\",\"+str(Tgd)+\",\"+str(IPP)+\",\"+str(elevation)+\",\"+str(azimuth)+\"\\n\"\n",
    "                    outfile.write(row)\n",
    "                    \n",
    "\n",
    "\n",
    "    "
   ]
  },
  {
   "cell_type": "code",
   "execution_count": null,
   "metadata": {
    "collapsed": false
   },
   "outputs": [],
   "source": [
    "def create_csv(indir,outdir,stations,day,year):\n",
    "    for station in stations:\n",
    "        ofile=station+day+\".\"+year+\".o\"\n",
    "        nfile=station+day+\".\"+year+\".n\"\n",
    "        #Calls Extract Dta function and creates text files\n",
    "        try:\n",
    "            Extract_Data(indir,outdir,nfile,ofile)\n",
    "        except:\n",
    "            print \"Estacion \",station, \" no se puede procesar\"\n"
   ]
  },
  {
   "cell_type": "code",
   "execution_count": null,
   "metadata": {
    "collapsed": false
   },
   "outputs": [],
   "source": [
    "in_directory=\"conus/\"\n",
    "out_directory=\"txtcors/\"\n",
    "create_csv(in_directory,out_directory,data.keys(),day,year)"
   ]
  },
  {
   "cell_type": "code",
   "execution_count": null,
   "metadata": {
    "collapsed": true
   },
   "outputs": [],
   "source": []
  }
 ],
 "metadata": {
  "kernelspec": {
   "display_name": "Python 2",
   "language": "python",
   "name": "python2"
  },
  "language_info": {
   "codemirror_mode": {
    "name": "ipython",
    "version": 2
   },
   "file_extension": ".py",
   "mimetype": "text/x-python",
   "name": "python",
   "nbconvert_exporter": "python",
   "pygments_lexer": "ipython2",
   "version": "2.7.9"
  }
 },
 "nbformat": 4,
 "nbformat_minor": 0
}
